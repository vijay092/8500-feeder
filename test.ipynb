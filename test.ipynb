{
 "cells": [
  {
   "cell_type": "code",
   "execution_count": 1,
   "metadata": {},
   "outputs": [],
   "source": [
    "import opendssdirect as dss"
   ]
  },
  {
   "cell_type": "code",
   "execution_count": 2,
   "metadata": {},
   "outputs": [
    {
     "ename": "DSSException",
     "evalue": "(#525) Error 525 Reported From OpenDSS Intrinsic Function: \nEnergyMeter: \"main\"\n\nError Description: \nCircuit Element not set.\n\nProbable Cause: \nElement must be defined previously.",
     "output_type": "error",
     "traceback": [
      "\u001b[0;31m---------------------------------------------------------------------------\u001b[0m",
      "\u001b[0;31mDSSException\u001b[0m                              Traceback (most recent call last)",
      "Cell \u001b[0;32mIn[2], line 2\u001b[0m\n\u001b[1;32m      1\u001b[0m dss\u001b[39m.\u001b[39mText\u001b[39m.\u001b[39mCommand(\u001b[39m'\u001b[39m\u001b[39mRedirect /Users/svijaysh/8500-feeder/opendss-model-files/Master.dss\u001b[39m\u001b[39m'\u001b[39m)\n\u001b[0;32m----> 2\u001b[0m dss\u001b[39m.\u001b[39;49mText\u001b[39m.\u001b[39;49mCommand(\u001b[39m\"\u001b[39;49m\u001b[39mNew EnergyMeter.Main Line.650632 1\u001b[39;49m\u001b[39m\"\u001b[39;49m)\n",
      "File \u001b[0;32m~/Anaconda/anaconda3/envs/disco/lib/python3.10/site-packages/opendssdirect/Text.py:17\u001b[0m, in \u001b[0;36mCommand\u001b[0;34m(*args)\u001b[0m\n\u001b[1;32m     14\u001b[0m     Value \u001b[39m=\u001b[39m Value\u001b[39m.\u001b[39mencode(codec)\n\u001b[1;32m     16\u001b[0m lib\u001b[39m.\u001b[39mText_Set_Command(Value)\n\u001b[0;32m---> 17\u001b[0m CheckForError()\n",
      "File \u001b[0;32m~/Anaconda/anaconda3/envs/disco/lib/python3.10/site-packages/dss/_cffi_api_util.py:177\u001b[0m, in \u001b[0;36mBase._check_for_error\u001b[0;34m(self, result)\u001b[0m\n\u001b[1;32m    175\u001b[0m     error_num \u001b[39m=\u001b[39m \u001b[39mself\u001b[39m\u001b[39m.\u001b[39m_errorPtr[\u001b[39m0\u001b[39m]\n\u001b[1;32m    176\u001b[0m     \u001b[39mself\u001b[39m\u001b[39m.\u001b[39m_errorPtr[\u001b[39m0\u001b[39m] \u001b[39m=\u001b[39m \u001b[39m0\u001b[39m\n\u001b[0;32m--> 177\u001b[0m     \u001b[39mraise\u001b[39;00m DSSException(error_num, \u001b[39mself\u001b[39m\u001b[39m.\u001b[39m_get_string(\u001b[39mself\u001b[39m\u001b[39m.\u001b[39m_lib\u001b[39m.\u001b[39mError_Get_Description()))\n\u001b[1;32m    179\u001b[0m \u001b[39mreturn\u001b[39;00m result\n",
      "\u001b[0;31mDSSException\u001b[0m: (#525) Error 525 Reported From OpenDSS Intrinsic Function: \nEnergyMeter: \"main\"\n\nError Description: \nCircuit Element not set.\n\nProbable Cause: \nElement must be defined previously."
     ]
    }
   ],
   "source": [
    "dss.Text.Command('Redirect /Users/svijaysh/8500-feeder/opendss-model-files/Master.dss')\n",
    "dss.Text.Command(\"New EnergyMeter.Main Line.650632 1\")\n"
   ]
  },
  {
   "cell_type": "code",
   "execution_count": null,
   "metadata": {},
   "outputs": [
    {
     "data": {
      "text/plain": [
       "'2224500658a0'"
      ]
     },
     "execution_count": 3,
     "metadata": {},
     "output_type": "execute_result"
    }
   ],
   "source": [
    "dss.Loads.Name()\n"
   ]
  },
  {
   "cell_type": "code",
   "execution_count": null,
   "metadata": {},
   "outputs": [],
   "source": [
    "dss.Solution.Solve()"
   ]
  },
  {
   "cell_type": "code",
   "execution_count": null,
   "metadata": {},
   "outputs": [],
   "source": [
    "df = dss.utils.lines_to_dataframe()\n"
   ]
  },
  {
   "cell_type": "code",
   "execution_count": null,
   "metadata": {},
   "outputs": [
    {
     "data": {
      "text/html": [
       "<div>\n",
       "<style scoped>\n",
       "    .dataframe tbody tr th:only-of-type {\n",
       "        vertical-align: middle;\n",
       "    }\n",
       "\n",
       "    .dataframe tbody tr th {\n",
       "        vertical-align: top;\n",
       "    }\n",
       "\n",
       "    .dataframe thead th {\n",
       "        text-align: right;\n",
       "    }\n",
       "</style>\n",
       "<table border=\"1\" class=\"dataframe\">\n",
       "  <thead>\n",
       "    <tr style=\"text-align: right;\">\n",
       "      <th></th>\n",
       "      <th>AvailableSteps</th>\n",
       "      <th>IsDelta</th>\n",
       "      <th>Name</th>\n",
       "      <th>NumSteps</th>\n",
       "      <th>States</th>\n",
       "      <th>kV</th>\n",
       "      <th>kvar</th>\n",
       "      <th>Idx</th>\n",
       "    </tr>\n",
       "  </thead>\n",
       "  <tbody>\n",
       "    <tr>\n",
       "      <th>capbank2a</th>\n",
       "      <td>0</td>\n",
       "      <td>False</td>\n",
       "      <td>capbank2a</td>\n",
       "      <td>1</td>\n",
       "      <td>[1]</td>\n",
       "      <td>7.2</td>\n",
       "      <td>300.0</td>\n",
       "      <td>1</td>\n",
       "    </tr>\n",
       "    <tr>\n",
       "      <th>capbank2b</th>\n",
       "      <td>0</td>\n",
       "      <td>False</td>\n",
       "      <td>capbank2b</td>\n",
       "      <td>1</td>\n",
       "      <td>[1]</td>\n",
       "      <td>7.2</td>\n",
       "      <td>300.0</td>\n",
       "      <td>2</td>\n",
       "    </tr>\n",
       "    <tr>\n",
       "      <th>capbank2c</th>\n",
       "      <td>0</td>\n",
       "      <td>False</td>\n",
       "      <td>capbank2c</td>\n",
       "      <td>1</td>\n",
       "      <td>[1]</td>\n",
       "      <td>7.2</td>\n",
       "      <td>300.0</td>\n",
       "      <td>3</td>\n",
       "    </tr>\n",
       "    <tr>\n",
       "      <th>capbank1a</th>\n",
       "      <td>0</td>\n",
       "      <td>False</td>\n",
       "      <td>capbank1a</td>\n",
       "      <td>1</td>\n",
       "      <td>[1]</td>\n",
       "      <td>7.2</td>\n",
       "      <td>300.0</td>\n",
       "      <td>4</td>\n",
       "    </tr>\n",
       "    <tr>\n",
       "      <th>capbank1b</th>\n",
       "      <td>0</td>\n",
       "      <td>False</td>\n",
       "      <td>capbank1b</td>\n",
       "      <td>1</td>\n",
       "      <td>[1]</td>\n",
       "      <td>7.2</td>\n",
       "      <td>300.0</td>\n",
       "      <td>5</td>\n",
       "    </tr>\n",
       "    <tr>\n",
       "      <th>capbank1c</th>\n",
       "      <td>0</td>\n",
       "      <td>False</td>\n",
       "      <td>capbank1c</td>\n",
       "      <td>1</td>\n",
       "      <td>[1]</td>\n",
       "      <td>7.2</td>\n",
       "      <td>300.0</td>\n",
       "      <td>6</td>\n",
       "    </tr>\n",
       "    <tr>\n",
       "      <th>capbank0a</th>\n",
       "      <td>0</td>\n",
       "      <td>False</td>\n",
       "      <td>capbank0a</td>\n",
       "      <td>1</td>\n",
       "      <td>[1]</td>\n",
       "      <td>7.2</td>\n",
       "      <td>400.0</td>\n",
       "      <td>7</td>\n",
       "    </tr>\n",
       "    <tr>\n",
       "      <th>capbank0b</th>\n",
       "      <td>0</td>\n",
       "      <td>False</td>\n",
       "      <td>capbank0b</td>\n",
       "      <td>1</td>\n",
       "      <td>[1]</td>\n",
       "      <td>7.2</td>\n",
       "      <td>400.0</td>\n",
       "      <td>8</td>\n",
       "    </tr>\n",
       "    <tr>\n",
       "      <th>capbank0c</th>\n",
       "      <td>0</td>\n",
       "      <td>False</td>\n",
       "      <td>capbank0c</td>\n",
       "      <td>1</td>\n",
       "      <td>[1]</td>\n",
       "      <td>7.2</td>\n",
       "      <td>400.0</td>\n",
       "      <td>9</td>\n",
       "    </tr>\n",
       "    <tr>\n",
       "      <th>capbank3</th>\n",
       "      <td>0</td>\n",
       "      <td>False</td>\n",
       "      <td>capbank3</td>\n",
       "      <td>1</td>\n",
       "      <td>[1]</td>\n",
       "      <td>12.47112</td>\n",
       "      <td>900.0</td>\n",
       "      <td>10</td>\n",
       "    </tr>\n",
       "  </tbody>\n",
       "</table>\n",
       "</div>"
      ],
      "text/plain": [
       "          AvailableSteps IsDelta       Name NumSteps States        kV   kvar  \\\n",
       "capbank2a              0   False  capbank2a        1    [1]       7.2  300.0   \n",
       "capbank2b              0   False  capbank2b        1    [1]       7.2  300.0   \n",
       "capbank2c              0   False  capbank2c        1    [1]       7.2  300.0   \n",
       "capbank1a              0   False  capbank1a        1    [1]       7.2  300.0   \n",
       "capbank1b              0   False  capbank1b        1    [1]       7.2  300.0   \n",
       "capbank1c              0   False  capbank1c        1    [1]       7.2  300.0   \n",
       "capbank0a              0   False  capbank0a        1    [1]       7.2  400.0   \n",
       "capbank0b              0   False  capbank0b        1    [1]       7.2  400.0   \n",
       "capbank0c              0   False  capbank0c        1    [1]       7.2  400.0   \n",
       "capbank3               0   False   capbank3        1    [1]  12.47112  900.0   \n",
       "\n",
       "          Idx  \n",
       "capbank2a   1  \n",
       "capbank2b   2  \n",
       "capbank2c   3  \n",
       "capbank1a   4  \n",
       "capbank1b   5  \n",
       "capbank1c   6  \n",
       "capbank0a   7  \n",
       "capbank0b   8  \n",
       "capbank0c   9  \n",
       "capbank3   10  "
      ]
     },
     "execution_count": 12,
     "metadata": {},
     "output_type": "execute_result"
    }
   ],
   "source": [
    "dss.utils.capacitors_to_dataframe()\n"
   ]
  },
  {
   "cell_type": "code",
   "execution_count": null,
   "metadata": {},
   "outputs": [],
   "source": [
    "from dss import plot\n",
    "plot.enable()"
   ]
  },
  {
   "cell_type": "code",
   "execution_count": null,
   "metadata": {},
   "outputs": [
    {
     "ename": "DSSException",
     "evalue": "(#777) Error in the plot backend: An EnergyMeter is required to use 'plot profile'\nTraceback (most recent call last):\n  File \"/Users/svijaysh/Anaconda/anaconda3/envs/disco/lib/python3.10/site-packages/dss/plot.py\", line 1860, in dss_plot\n    dss_plot_funcs.get(ptype)(DSS, params)\n  File \"/Users/svijaysh/Anaconda/anaconda3/envs/disco/lib/python3.10/site-packages/dss/plot.py\", line 623, in dss_profile_plot\n    raise RuntimeError(f\"An EnergyMeter is required to use 'plot profile'\")\nRuntimeError: An EnergyMeter is required to use 'plot profile'\n",
     "output_type": "error",
     "traceback": [
      "\u001b[0;31m---------------------------------------------------------------------------\u001b[0m",
      "\u001b[0;31mDSSException\u001b[0m                              Traceback (most recent call last)",
      "Cell \u001b[0;32mIn[7], line 1\u001b[0m\n\u001b[0;32m----> 1\u001b[0m dss\u001b[39m.\u001b[39;49mText\u001b[39m.\u001b[39;49mCommand(\u001b[39m'\u001b[39;49m\u001b[39mplot profile\u001b[39;49m\u001b[39m'\u001b[39;49m)\n",
      "File \u001b[0;32m~/Anaconda/anaconda3/envs/disco/lib/python3.10/site-packages/opendssdirect/Text.py:17\u001b[0m, in \u001b[0;36mCommand\u001b[0;34m(*args)\u001b[0m\n\u001b[1;32m     14\u001b[0m     Value \u001b[39m=\u001b[39m Value\u001b[39m.\u001b[39mencode(codec)\n\u001b[1;32m     16\u001b[0m lib\u001b[39m.\u001b[39mText_Set_Command(Value)\n\u001b[0;32m---> 17\u001b[0m CheckForError()\n",
      "File \u001b[0;32m~/Anaconda/anaconda3/envs/disco/lib/python3.10/site-packages/dss/_cffi_api_util.py:177\u001b[0m, in \u001b[0;36mBase._check_for_error\u001b[0;34m(self, result)\u001b[0m\n\u001b[1;32m    175\u001b[0m     error_num \u001b[39m=\u001b[39m \u001b[39mself\u001b[39m\u001b[39m.\u001b[39m_errorPtr[\u001b[39m0\u001b[39m]\n\u001b[1;32m    176\u001b[0m     \u001b[39mself\u001b[39m\u001b[39m.\u001b[39m_errorPtr[\u001b[39m0\u001b[39m] \u001b[39m=\u001b[39m \u001b[39m0\u001b[39m\n\u001b[0;32m--> 177\u001b[0m     \u001b[39mraise\u001b[39;00m DSSException(error_num, \u001b[39mself\u001b[39m\u001b[39m.\u001b[39m_get_string(\u001b[39mself\u001b[39m\u001b[39m.\u001b[39m_lib\u001b[39m.\u001b[39mError_Get_Description()))\n\u001b[1;32m    179\u001b[0m \u001b[39mreturn\u001b[39;00m result\n",
      "\u001b[0;31mDSSException\u001b[0m: (#777) Error in the plot backend: An EnergyMeter is required to use 'plot profile'\nTraceback (most recent call last):\n  File \"/Users/svijaysh/Anaconda/anaconda3/envs/disco/lib/python3.10/site-packages/dss/plot.py\", line 1860, in dss_plot\n    dss_plot_funcs.get(ptype)(DSS, params)\n  File \"/Users/svijaysh/Anaconda/anaconda3/envs/disco/lib/python3.10/site-packages/dss/plot.py\", line 623, in dss_profile_plot\n    raise RuntimeError(f\"An EnergyMeter is required to use 'plot profile'\")\nRuntimeError: An EnergyMeter is required to use 'plot profile'\n"
     ]
    }
   ],
   "source": [
    "dss.Text.Command('plot profile')\n"
   ]
  },
  {
   "cell_type": "code",
   "execution_count": null,
   "metadata": {},
   "outputs": [],
   "source": []
  }
 ],
 "metadata": {
  "kernelspec": {
   "display_name": "Python 3.10.13 ('disco')",
   "language": "python",
   "name": "python3"
  },
  "language_info": {
   "codemirror_mode": {
    "name": "ipython",
    "version": 3
   },
   "file_extension": ".py",
   "mimetype": "text/x-python",
   "name": "python",
   "nbconvert_exporter": "python",
   "pygments_lexer": "ipython3",
   "version": "3.10.13"
  },
  "orig_nbformat": 4,
  "vscode": {
   "interpreter": {
    "hash": "7b2a392fad61e657c42b221f921364e7c4d8d1df8f3cafc7ad5baaf9a8d8d0bb"
   }
  }
 },
 "nbformat": 4,
 "nbformat_minor": 2
}
